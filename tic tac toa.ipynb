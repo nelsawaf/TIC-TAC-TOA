{
 "cells": [
  {
   "cell_type": "markdown",
   "metadata": {},
   "source": [
    "## TIC TAC TOA"
   ]
  },
  {
   "cell_type": "code",
   "execution_count": 1,
   "metadata": {
    "scrolled": true
   },
   "outputs": [
    {
     "name": "stdout",
     "output_type": "stream",
     "text": [
      "what is your name : 1\n",
      "what is your name : 2\n",
      "\n",
      "\n",
      "welcome 1 you will play with X \n",
      "\n",
      "welcome 2 you will play with O \n",
      "\n"
     ]
    }
   ],
   "source": [
    "player1=input('what is your name : ')\n",
    "player2=input('what is your name : ')\n",
    "print('\\n')\n",
    "print(f'welcome {player1} you will play with X \\n')\n",
    "print(f'welcome {player2} you will play with O \\n')\n",
    "\n",
    "k={'1': 1, '2': 2, '3': 3,'4': 4, '5': 5, '6': 6,'7': 7, '8': 8, '9': 9}\n",
    "\n",
    "d = {'1': ' ', '2': ' ', '3': ' ','4': ' ', '5': ' ', '6': ' ','7': ' ', '8':' ', '9': ' '}\n",
    "\n",
    "def patern(arr):\n",
    "        print('{}  | {} | {}'.format(arr['1'], arr['2'],arr['3']))\n",
    "        print('-----------')\n",
    "        print('{}  | {} | {}'.format(arr['4'], arr['5'],arr['6']))\n",
    "        print('-----------')\n",
    "        print('{}  | {} | {}'.format(arr['7'], arr['8'],arr['9']))\n",
    "        \n",
    "def game_over(arr):\n",
    "    for i in arr:\n",
    "        #player X winner\n",
    "        if arr['1']==arr['2']==arr['3']=='X' or  arr['1']==arr['5']==arr['9']=='X' or arr['1']==arr['4']==arr['7']=='X' or  arr['2']==arr['5']==arr['8']=='X' or  arr['3']==arr['5']==arr['7']=='X' or arr['3']==arr['6']==arr['9']=='X' or arr['4']==arr['5']==arr['6']=='X' or  arr['7']==arr['8']==arr['9']=='X' :\n",
    "            print ('\\t\\t\\t#*#*#*#*#*#*#*#*#*#*#*#*#*#*#')\n",
    "            print (f'\\t\\t\\t\\tCONGRATULATION {player1}! ')\n",
    "            print ('\\t\\t\\t\\t YOU WON! ')\n",
    "            print ('\\t\\t\\t#*#*#*#*#*#*#*#*#*#*#*#*#*#*#')\n",
    "            break\n",
    "        #Player O winner\n",
    "        elif arr['1']==arr['2']==arr['3']=='O' or arr['1']==arr['5']==arr['9']=='O' or arr['1']==arr['4']==arr['7']=='O' or  arr['2']==arr['5']==arr['8']=='O' or arr['3']==arr['5']==arr['7']=='O' or arr['3']==arr['6']==arr['9']=='O' or arr['4']==arr['5']==arr['6']=='O' or  arr['7']==arr['8']==arr['9']=='O' :\n",
    "            print ('\\t\\t\\t#*#*#*#*#*#*#*#*#*#*#*#*#*#*#')\n",
    "            print (f'\\t\\t\\t\\tCONGRATULATION {player2}! ')\n",
    "            print ('\\t\\t\\t\\t YOU WON! ')\n",
    "            print ('\\t\\t\\t#*#*#*#*#*#*#*#*#*#*#*#*#*#*#')\n",
    "            break  \n",
    "        break"
   ]
  },
  {
   "cell_type": "markdown",
   "metadata": {},
   "source": [
    "## THE GAME"
   ]
  },
  {
   "cell_type": "code",
   "execution_count": 6,
   "metadata": {},
   "outputs": [],
   "source": [
    "#choose your move\n",
    "def player1__move(d):\n",
    "    \n",
    "    for i in d:\n",
    "        i=input('\\t\\t\\tChoose Your Next Move : ')\n",
    "        if d[i]==' ':\n",
    "            d[i]='X'\n",
    "            print('Your game now')\n",
    "            patern(d)\n",
    "            break\n",
    "        else:\n",
    "            print(f'you can not do this move' )\n",
    "            \n",
    "\n",
    "     \n",
    "        \n",
    "def player2__move(d):\n",
    "    \n",
    "    for t in d:\n",
    "        t=input('\\t\\t\\tChoose Your Next Move : ')\n",
    "        if d[t]==' ':\n",
    "            d[t]='O'\n",
    "            print('Your game now')\n",
    "            patern(d)\n",
    "            break\n",
    "        else:\n",
    "            print(f'you can not do this move' )\n"
   ]
  },
  {
   "cell_type": "code",
   "execution_count": 7,
   "metadata": {},
   "outputs": [],
   "source": [
    "def Turn():\n",
    "    h=1\n",
    "    while h<10:\n",
    "        print(f'\\t\\t\\tYour Turn {player1}')\n",
    "        player1__move(d)\n",
    "        game_over(d)\n",
    "        print(f'\\t\\t\\tYour Turn {player2}')\n",
    "        player2__move(d)\n",
    "        game_over(d)\n",
    "        h+=1\n",
    "    else:\n",
    "        print('this is out side the range')"
   ]
  },
  {
   "cell_type": "code",
   "execution_count": 8,
   "metadata": {
    "scrolled": true
   },
   "outputs": [
    {
     "name": "stdout",
     "output_type": "stream",
     "text": [
      "\t\tTHIS IS YOUR PATERN YOU CAN CHOOSE YOUR POSITION \n",
      "\n",
      "\n",
      "1  | 2 | 3\n",
      "-----------\n",
      "4  | 5 | 6\n",
      "-----------\n",
      "7  | 8 | 9\n"
     ]
    }
   ],
   "source": [
    "print('\\t\\tTHIS IS YOUR PATERN YOU CAN CHOOSE YOUR POSITION \\n\\n')\n",
    "patern(k)"
   ]
  },
  {
   "cell_type": "code",
   "execution_count": null,
   "metadata": {},
   "outputs": [
    {
     "name": "stdout",
     "output_type": "stream",
     "text": [
      "\t\t\tYour Turn 1\n",
      "\t\t\tChoose Your Next Move : 1\n",
      "Your game now\n",
      "X  |   |  \n",
      "-----------\n",
      "   |   |  \n",
      "-----------\n",
      "   |   |  \n",
      "\t\t\tYour Turn 2\n",
      "\t\t\tChoose Your Next Move : 2\n",
      "Your game now\n",
      "X  | O |  \n",
      "-----------\n",
      "   |   |  \n",
      "-----------\n",
      "   |   |  \n",
      "\t\t\tYour Turn 1\n",
      "\t\t\tChoose Your Next Move : 3\n",
      "Your game now\n",
      "X  | O | X\n",
      "-----------\n",
      "   |   |  \n",
      "-----------\n",
      "   |   |  \n",
      "\t\t\tYour Turn 2\n",
      "\t\t\tChoose Your Next Move : 4\n",
      "Your game now\n",
      "X  | O | X\n",
      "-----------\n",
      "O  |   |  \n",
      "-----------\n",
      "   |   |  \n",
      "\t\t\tYour Turn 1\n",
      "\t\t\tChoose Your Next Move : 5\n",
      "Your game now\n",
      "X  | O | X\n",
      "-----------\n",
      "O  | X |  \n",
      "-----------\n",
      "   |   |  \n",
      "\t\t\tYour Turn 2\n",
      "\t\t\tChoose Your Next Move : 6\n",
      "Your game now\n",
      "X  | O | X\n",
      "-----------\n",
      "O  | X | O\n",
      "-----------\n",
      "   |   |  \n",
      "\t\t\tYour Turn 1\n",
      "\t\t\tChoose Your Next Move : 7\n",
      "Your game now\n",
      "X  | O | X\n",
      "-----------\n",
      "O  | X | O\n",
      "-----------\n",
      "X  |   |  \n",
      "\t\t\t#*#*#*#*#*#*#*#*#*#*#*#*#*#*#\n",
      "\t\t\t\tCONGRATULATION 1! \n",
      "\t\t\t\t YOU WON! \n",
      "\t\t\t#*#*#*#*#*#*#*#*#*#*#*#*#*#*#\n",
      "\t\t\tYour Turn 2\n"
     ]
    }
   ],
   "source": [
    "Turn()"
   ]
  },
  {
   "cell_type": "code",
   "execution_count": null,
   "metadata": {},
   "outputs": [],
   "source": []
  }
 ],
 "metadata": {
  "kernelspec": {
   "display_name": "Python 3",
   "language": "python",
   "name": "python3"
  },
  "language_info": {
   "codemirror_mode": {
    "name": "ipython",
    "version": 3
   },
   "file_extension": ".py",
   "mimetype": "text/x-python",
   "name": "python",
   "nbconvert_exporter": "python",
   "pygments_lexer": "ipython3",
   "version": "3.7.1"
  }
 },
 "nbformat": 4,
 "nbformat_minor": 2
}
